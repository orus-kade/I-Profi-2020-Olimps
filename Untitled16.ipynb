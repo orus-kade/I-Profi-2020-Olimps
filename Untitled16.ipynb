{
  "nbformat": 4,
  "nbformat_minor": 0,
  "metadata": {
    "colab": {
      "name": "Untitled16.ipynb",
      "provenance": [],
      "collapsed_sections": [],
      "mount_file_id": "1DwmPYChvzZOnHQmBuevdUpQaPkfKghqb",
      "authorship_tag": "ABX9TyOtmxTwd6qbFCnPx6Jcr3CP",
      "include_colab_link": true
    },
    "kernelspec": {
      "name": "python3",
      "display_name": "Python 3"
    }
  },
  "cells": [
    {
      "cell_type": "markdown",
      "metadata": {
        "id": "view-in-github",
        "colab_type": "text"
      },
      "source": [
        "<a href=\"https://colab.research.google.com/github/orus-kade/I-Profi-2020-Olimps/blob/master/Untitled16.ipynb\" target=\"_parent\"><img src=\"https://colab.research.google.com/assets/colab-badge.svg\" alt=\"Open In Colab\"/></a>"
      ]
    },
    {
      "cell_type": "code",
      "metadata": {
        "id": "3fcy4cVpJvni",
        "colab_type": "code",
        "colab": {}
      },
      "source": [
        "zip_path ='/content/drive/My Drive/Тёма руникс/leaf_diseases.zip'\n",
        "unzip_path = '/content/drive/My Drive/Тёма руникс/dataset'"
      ],
      "execution_count": 0,
      "outputs": []
    },
    {
      "cell_type": "code",
      "metadata": {
        "id": "NIRaiWAdNsct",
        "colab_type": "code",
        "colab": {}
      },
      "source": [
        "!mkdir '$unzip_path'\n",
        "!unzip -d '$unzip_path' '$zip_path'"
      ],
      "execution_count": 0,
      "outputs": []
    }
  ]
}