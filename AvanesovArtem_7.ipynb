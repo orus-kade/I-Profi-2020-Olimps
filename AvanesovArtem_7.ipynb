{
  "nbformat": 4,
  "nbformat_minor": 0,
  "metadata": {
    "colab": {
      "name": "AvanesovArtem_7.ipynb",
      "provenance": [],
      "collapsed_sections": [],
      "include_colab_link": true
    },
    "kernelspec": {
      "name": "python3",
      "display_name": "Python 3"
    }
  },
  "cells": [
    {
      "cell_type": "markdown",
      "metadata": {
        "id": "view-in-github",
        "colab_type": "text"
      },
      "source": [
        "<a href=\"https://colab.research.google.com/github/orus-kade/I-Profi-2020-Olimps/blob/master/AvanesovArtem_7.ipynb\" target=\"_parent\"><img src=\"https://colab.research.google.com/assets/colab-badge.svg\" alt=\"Open In Colab\"/></a>"
      ]
    },
    {
      "cell_type": "markdown",
      "metadata": {
        "id": "it_PIlvIeSqW",
        "colab_type": "text"
      },
      "source": [
        "# Чтение и распаковка данных"
      ]
    },
    {
      "cell_type": "code",
      "metadata": {
        "id": "_wUMZZ1heK43",
        "colab_type": "code",
        "colab": {}
      },
      "source": [
        "base_dir = '/content/drive/My Drive/Colab/Roonyx/work_5'\n",
        "zip_path = base_dir + '/leaf_diseases.zip'\n",
        "unzip_path = base_dir + '/dataset'\n",
        "\n",
        "!mkdir '$unzip_path'\n",
        "!unzip -d '$unzip_path' '$zip_path'"
      ],
      "execution_count": 0,
      "outputs": []
    },
    {
      "cell_type": "markdown",
      "metadata": {
        "id": "K4zRFuS0jGoE",
        "colab_type": "text"
      },
      "source": [
        "# Построение диаграммы распределения классов"
      ]
    },
    {
      "cell_type": "code",
      "metadata": {
        "id": "SgUjkBwMbruR",
        "colab_type": "code",
        "colab": {}
      },
      "source": [
        "import pandas as pd\n",
        "import numpy as np\n",
        "import matplotlib.pyplot as plt\n",
        "\n",
        "leafs = pd.read_csv(unzip_path+'/plant-pathology-2020-fgvc7/train.csv') \n",
        "y = np.array(leafs.drop([\"image_id\"], axis=1).values)\n",
        "\n",
        "num_healthy = sum(y[:,0])\n",
        "num_multiple_diseases = sum(y[:,1])\n",
        "num_rust = sum(y[:,2])\n",
        "num_scab = sum(y[:,3])\n",
        "\n",
        "plt.hist([1]*num_healthy,bins=4, label = \"healthy\", width = 0.7)\n",
        "plt.hist([2]*num_multiple_diseases,bins=4, label = \"multiple_diseases\", width = 0.7)\n",
        "plt.hist([3]*num_rust,bins=4, label = \"rust\", width = 0.7)\n",
        "plt.hist([4]*num_scab,bins=4, label = \"scab\", width = 0.7)\n",
        "plt.ylim(0,max(num_healthy,num_multiple_diseases,num_rust, num_scab)*1.4)\n",
        "plt.xlim(0.7,5)\n",
        "plt.legend(loc='best')"
      ],
      "execution_count": 0,
      "outputs": []
    },
    {
      "cell_type": "markdown",
      "metadata": {
        "id": "9_ktwFQn55V3",
        "colab_type": "text"
      },
      "source": [
        "# Создание директорий для трейн, тест, валидации"
      ]
    },
    {
      "cell_type": "code",
      "metadata": {
        "id": "ufQzMgr06BRZ",
        "colab_type": "code",
        "colab": {}
      },
      "source": [
        "import os\n",
        "\n",
        "splitted_dataset_path = base_dir + '/splitted_dataset'\n",
        "os.mkdir(splitted_dataset_path)\n",
        "\n",
        "train_dir = os.path.join(splitted_dataset_path, 'train')\n",
        "os.mkdir(train_dir)\n",
        "validation_dir = os.path.join(splitted_dataset_path, 'validation')\n",
        "os.mkdir(validation_dir)\n",
        "test_dir = os.path.join(splitted_dataset_path, 'test')\n",
        "os.mkdir(test_dir)\n",
        "\n",
        "for path in [train_dir, test_dir, validation_dir]:\n",
        "  for num_class in [0,1,2,3]:\n",
        "    class_dir = os.path.join(path, str(num_class) + '_class')\n",
        "    os.mkdir(class_dir)"
      ],
      "execution_count": 0,
      "outputs": []
    },
    {
      "cell_type": "markdown",
      "metadata": {
        "id": "dhmcStggoGz0",
        "colab_type": "text"
      },
      "source": [
        "## Определение индексов картинок, относящихся к определенному классу"
      ]
    },
    {
      "cell_type": "code",
      "metadata": {
        "id": "5wWrAU_en8X7",
        "colab_type": "code",
        "colab": {}
      },
      "source": [
        "indices_class_0, indices_class_1, indices_class_2, indices_class_3 = [], [], [], []\n",
        "for i in range(0, len(y),1):\n",
        "  if(np.argmax(y[i]) == 0):\n",
        "    indices_class_0.append(i)\n",
        "  elif(np.argmax(y[i]) == 1):\n",
        "    indices_class_1.append(i)\n",
        "  elif(np.argmax(y[i]) == 2):\n",
        "    indices_class_2.append(i)\n",
        "  elif(np.argmax(y[i]) == 3):\n",
        "    indices_class_3.append(i)"
      ],
      "execution_count": 0,
      "outputs": []
    },
    {
      "cell_type": "markdown",
      "metadata": {
        "id": "UdqWdQmlok8v",
        "colab_type": "text"
      },
      "source": [
        "## Перемешивание массивов индексов"
      ]
    },
    {
      "cell_type": "code",
      "metadata": {
        "id": "rKa-F38oOH09",
        "colab_type": "code",
        "colab": {}
      },
      "source": [
        "import random\n",
        "\n",
        "# Перемешивание массивов индексов\n",
        "random.shuffle(indices_class_0)\n",
        "random.shuffle(indices_class_1)\n",
        "random.shuffle(indices_class_2)\n",
        "random.shuffle(indices_class_3)\n",
        "\n",
        "# Объединение массивов индексов в один (для удобства)\n",
        "indices_classes = [indices_class_0, indices_class_1, indices_class_2, indices_class_3]"
      ],
      "execution_count": 0,
      "outputs": []
    },
    {
      "cell_type": "markdown",
      "metadata": {
        "id": "VIFuLXP-o2TU",
        "colab_type": "text"
      },
      "source": [
        "### Вычисление количества элементов в тестовых, обучающих и валидационных выборках"
      ]
    },
    {
      "cell_type": "code",
      "metadata": {
        "id": "QFmprRUIozMb",
        "colab_type": "code",
        "colab": {}
      },
      "source": [
        "import pandas as pd\n",
        "\n",
        "percent_validation = 10\n",
        "percent_test = 10\n",
        "\n",
        "num_test = []\n",
        "num_validation = []\n",
        "num_train = []\n",
        "for i in range(0,4,1):\n",
        "  num_test.append(int(len(indices_classes[i])*percent_test/100))\n",
        "  num_validation.append(int(len(indices_classes[i])*percent_validation/100))\n",
        "  num_train.append(len(indices_classes[i])-num_test[-1] - num_validation[-1])\n",
        "\n",
        "array_for_pandas = np.transpose([num_train, num_test, num_validation])\n",
        "\n",
        "df = pd.DataFrame({\n",
        "     '': ['Train', 'Test', 'Validation'],\n",
        "     'Class 0': array_for_pandas[0,:],\n",
        "     'Class 1': array_for_pandas[1,:],\n",
        "     'Class 2': array_for_pandas[2,:],\n",
        "     'Class 3': array_for_pandas[3,:]\n",
        " })\n",
        "\n",
        "df"
      ],
      "execution_count": 0,
      "outputs": []
    },
    {
      "cell_type": "markdown",
      "metadata": {
        "id": "EJEoy81_qR0K",
        "colab_type": "text"
      },
      "source": [
        "## Запись данных с обучающими, тестовыми и валидационными выборками"
      ]
    },
    {
      "cell_type": "code",
      "metadata": {
        "id": "933I9RLoRf8J",
        "colab_type": "code",
        "colab": {}
      },
      "source": [
        "import shutil\n",
        "\n",
        "src = unzip_path + '/plant-pathology-2020-fgvc7/images'\n",
        "\n",
        "# Копирование тестовых картинок \n",
        "for num_class in [0,1,2,3]:\n",
        "  test_fnames = ['Train_{}.jpg'.format(i) for i in indices_classes[num_class][0:num_test[num_class]]]\n",
        "  for fname in test_fnames:\n",
        "    shutil.copyfile(src+'/'+fname, test_dir+'/'+str(num_class)+'_class'+'/'+fname)\n",
        "\n",
        "# Копирование валидационных картинок \n",
        "for num_class in [0,1,2,3]:\n",
        "  validation_fnames = ['Train_{}.jpg'.format(i) for i in indices_classes[num_class][num_test[num_class]:num_test[num_class] + num_validation[num_class]]]\n",
        "  for fname in validation_fnames:\n",
        "    shutil.copyfile(src+'/'+fname, validation_dir+'/'+str(num_class)+'_class'+'/'+fname)\n",
        "\n",
        "# Копирование обучающих картинок \n",
        "for num_class in [0,1,2,3]:\n",
        "  train_fnames = ['Train_{}.jpg'.format(i) for i in indices_classes[num_class][num_test[num_class] + num_validation[num_class]:]]\n",
        "  for fname in train_fnames:\n",
        "    shutil.copyfile(src+'/'+fname, train_dir+'/'+str(num_class)+'_class'+'/'+fname)"
      ],
      "execution_count": 0,
      "outputs": []
    }
  ]
}